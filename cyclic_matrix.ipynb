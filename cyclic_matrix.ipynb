{
 "cells": [
  {
   "cell_type": "code",
   "execution_count": 61,
   "id": "6f133fd8-3844-44e9-aa1b-ed53ae69edd8",
   "metadata": {},
   "outputs": [
    {
     "name": "stdout",
     "output_type": "stream",
     "text": [
      "巡回行列C=\n",
      "[[6 4 3]\n",
      " [3 6 4]\n",
      " [4 3 6]]\n",
      "固有値：\n",
      "[13. +0.j         2.5+0.8660254j  2.5-0.8660254j]\n"
     ]
    }
   ],
   "source": [
    "import numpy as np\n",
    "import random\n",
    "\n",
    "#巡回行列のサイズ\n",
    "n=3\n",
    "\n",
    "C=np.zeros((n,n),dtype=int)\n",
    "for i in range(n):\n",
    "    rand=random.randint(0, 9)\n",
    "    for j in range(n):\n",
    "        C[j][(i+j)%n]=rand\n",
    "\n",
    "print('巡回行列C=')\n",
    "print(C)\n",
    "\n",
    "eig=np.linalg.eig(C)\n",
    "print('固有値：')\n",
    "print(eig[0])"
   ]
  },
  {
   "cell_type": "code",
   "execution_count": 67,
   "id": "ccb1d315-ea24-41c6-96f2-8644ab0033ea",
   "metadata": {},
   "outputs": [
    {
     "name": "stdout",
     "output_type": "stream",
     "text": [
      "変換行列P=\n",
      "[[ 1. +0.j         1. +0.j         1. +0.j       ]\n",
      " [ 1. +0.j        -0.5+0.8660254j -0.5-0.8660254j]\n",
      " [ 1. +0.j        -0.5-0.8660254j -0.5+0.8660254j]]\n",
      "Pの逆行列P^(-1)=\n",
      "[[ 0.33333333+0.00000000e+00j  0.33333333+0.00000000e+00j\n",
      "   0.33333333+0.00000000e+00j]\n",
      " [ 0.33333333-8.16431199e-17j -0.16666667-2.88675135e-01j\n",
      "  -0.16666667+2.88675135e-01j]\n",
      " [ 0.33333333-1.63286240e-16j -0.16666667+2.88675135e-01j\n",
      "  -0.16666667-2.88675135e-01j]]\n"
     ]
    }
   ],
   "source": [
    "import math\n",
    "import cmath\n",
    "\n",
    "theta=2*math.pi/n\n",
    "P=np.zeros((n,n),dtype=complex)\n",
    "P_inv=np.zeros((n,n),dtype=complex)\n",
    "for i in range(n):\n",
    "    for j in range(n):\n",
    "        P[i][j]=cmath.rect(1, i*j*theta)\n",
    "        P_inv[i][j]=cmath.rect(1, i*(n-j)*theta)/n\n",
    "print('変換行列P=')\n",
    "print(P)\n",
    "print('Pの逆行列P^(-1)=')\n",
    "print(P_inv)"
   ]
  },
  {
   "cell_type": "code",
   "execution_count": 69,
   "id": "b0062632-df72-4f03-9d40-7d90d7ac1acc",
   "metadata": {},
   "outputs": [
    {
     "data": {
      "text/plain": [
       "array([[ 1.30000000e+01+0.00000000e+00j, -8.88178420e-16+8.88178420e-16j,\n",
       "         1.77635684e-15+2.66453526e-15j],\n",
       "       [-1.11022302e-15+8.88178420e-16j,  2.50000000e+00+8.66025404e-01j,\n",
       "        -2.22044605e-16+4.44089210e-16j],\n",
       "       [ 1.44328993e-15+7.77156117e-16j,  2.22044605e-16+3.33066907e-16j,\n",
       "         2.50000000e+00-8.66025404e-01j]])"
      ]
     },
     "execution_count": 69,
     "metadata": {},
     "output_type": "execute_result"
    }
   ],
   "source": [
    "P_inv@C@P"
   ]
  },
  {
   "cell_type": "code",
   "execution_count": null,
   "id": "729a356d-e424-4ebf-b5bc-e2720e1abc0e",
   "metadata": {},
   "outputs": [],
   "source": []
  }
 ],
 "metadata": {
  "kernelspec": {
   "display_name": "Python 3 (ipykernel)",
   "language": "python",
   "name": "python3"
  },
  "language_info": {
   "codemirror_mode": {
    "name": "ipython",
    "version": 3
   },
   "file_extension": ".py",
   "mimetype": "text/x-python",
   "name": "python",
   "nbconvert_exporter": "python",
   "pygments_lexer": "ipython3",
   "version": "3.12.4"
  }
 },
 "nbformat": 4,
 "nbformat_minor": 5
}
